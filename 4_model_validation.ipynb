{
 "cells": [
  {
   "cell_type": "markdown",
   "metadata": {
    "collapsed": false
   },
   "source": [
    "<a class=\"anchor\" id=\"0\"></a>\n",
    "# **Predicting Hyperthyroidism Using Medical Features: A Binary Classification Approach**\n",
    "\n",
    "I am going to load a `thyroid` dataset, which contains many medical features about a patient, and whether they have hyperthyroidism or not as a target. I want to predict whether a patient has hyperthyroidism or not."
   ]
  },
  {
   "cell_type": "markdown",
   "metadata": {},
   "source": [
    "<a class=\"anchor\" id=\"0.1\"></a>\n",
    "# **Table of Contents**\n",
    "\n",
    "\n",
    "1. [Load the dataset](#1)\n",
    "2. [Exploratory Analysis](#2)\n",
    "3. [Random Forest Classifier: no oversampling](#3)\n",
    "4. [Hyperparameter tuning with GridSearchCV](#4)\n",
    "5. [Hyperparameter tuning with RandomizedSearch](#5)\n",
    "6. [Oversampling](#6)\n",
    "7. [Cross-validation after Oversampling](#7)\n",
    "8. [Final Conclusions](#8)"
   ]
  },
  {
   "cell_type": "markdown",
   "metadata": {},
   "source": [
    "# **1. Load the dataset** <a class=\"anchor\" id=\"1\"></a>\n",
    "\n",
    "[Table of Contents](#0.1)\n",
    "\n",
    "I am going to use a dataset from a library called \"imbalance\". I loaded the dataset `thyroid_sick` from the `fetch_datasets` function [reference](https://imbalanced-learn.org/stable/references/generated/imblearn.datasets.fetch_datasets.html#fetch-datasets). \n",
    "I Put the features into a dataframe `X` and the target into a series `y`.\n",
    "\n",
    "Note: the features name are not included in the dataset for the moment"
   ]
  },
  {
   "cell_type": "markdown",
   "metadata": {},
   "source": [
    "### Importing Libraries and loading the dataset"
   ]
  },
  {
   "cell_type": "code",
   "execution_count": 1,
   "metadata": {},
   "outputs": [],
   "source": [
    "from imblearn.datasets import fetch_datasets\n",
    "import ssl\n",
    "import pandas as pd\n",
    "import matplotlib.pyplot as plt\n",
    "from sklearn.model_selection import KFold\n",
    "from sklearn.model_selection import train_test_split\n",
    "\n",
    "# Set the location of CA certificates\n",
    "ssl._create_default_https_context = ssl._create_unverified_context\n",
    "\n",
    "thyroid = fetch_datasets()['thyroid_sick']\n",
    "df=pd.DataFrame(thyroid.data)\n",
    "df['target']=thyroid.target\n",
    "y=df['target']\n",
    "X=df.drop('target',axis=1)"
   ]
  },
  {
   "cell_type": "markdown",
   "metadata": {},
   "source": [
    "# **1. Exploratory Analysis** <a class=\"anchor\" id=\"2\"></a>\n",
    "\n",
    "[Table of Contents](#0.1)\n",
    "\n",
    "Imbalanced-learn's datasets are typically labelled `-1` (the majority class) and `1` (the rare class we are trying to find). Let's change that to `0` (no disease) and `1` (sick). Then, I check the imbalance of the dataset. We can calculate the mean of `y` for that (which is just the proportion of sick patients)."
   ]
  },
  {
   "cell_type": "code",
   "execution_count": 2,
   "metadata": {
    "ExecuteTime": {
     "end_time": "2024-01-31T21:55:35.697553588Z",
     "start_time": "2024-01-31T21:55:35.657487023Z"
    }
   },
   "outputs": [
    {
     "name": "stdout",
     "output_type": "stream",
     "text": [
      "The proportion of sick patients is 6.1%\n"
     ]
    }
   ],
   "source": [
    "y=y.map({-1:0,1:1})\n",
    "y.value_counts()\n",
    "Avg_y= y.mean()\n",
    "print(f\"The proportion of sick patients is {Avg_y*100:.2}%\")"
   ]
  },
  {
   "cell_type": "code",
   "execution_count": 3,
   "metadata": {},
   "outputs": [
    {
     "data": {
      "image/png": "[encoded data removed]",
      "text/plain": [
       "<Figure size 640x480 with 1 Axes>"
      ]
     },
     "metadata": {},
     "output_type": "display_data"
    },
    {
     "name": "stdout",
     "output_type": "stream",
     "text": [
      "target\n",
      "0    3541\n",
      "1     231\n",
      "Name: count, dtype: int64\n"
     ]
    }
   ],
   "source": [
    "plt.hist(y)\n",
    "plt.title('Imbalanced dataset')\n",
    "plt.show()\n",
    "print(y.value_counts())"
   ]
  },
  {
   "cell_type": "markdown",
   "metadata": {},
   "source": [
    "# **2. Standardizing our splits** <a class=\"anchor\" id=\"3\"></a>\n",
    "\n",
    "[Table of Contents](#0.1)\n",
    "\n",
    "There is a large disparity between the number of sick and healthy patients. This is a common problem in medical datasets, where the number of healthy patients is much larger than the number of sick patients.\n",
    "\n",
    "My goal will be to find a good recall (i.e. I want our classifier to find as many positive cases as it can). Using this metric can be dangerous, however, as simply predicting _everyone_ has a bad thyroid will make the recall 100%.\n",
    "\n",
    "To make sure that our results are consistent as we try different methods we will use a `KFold` object to ensure that we get the same splits each time.\n",
    "Instantiate a `KFold` object with 5 splits, a random state of 1 (for reproducible results, and `shuffle=True`. I will use this object to split our data into training and validation sets."
   ]
  },
  {
   "cell_type": "code",
   "execution_count": 4,
   "metadata": {
    "ExecuteTime": {
     "end_time": "2024-01-31T21:20:57.159380196Z",
     "start_time": "2024-01-31T21:20:57.132281789Z"
    }
   },
   "outputs": [],
   "source": [
    "kf= KFold(n_splits=5,shuffle=True,random_state=1)\n",
    "X_train, X_test, y_train, y_test = train_test_split(X, y, test_size=0.3, random_state=1)"
   ]
  },
  {
   "cell_type": "markdown",
   "metadata": {},
   "source": [
    "# **3. Random Forest Classifier: No oversampling** <a class=\"anchor\" id=\"3\"></a>\n",
    "\n",
    "[Table of Contents](#0.1)"
   ]
  },
  {
   "cell_type": "markdown",
   "metadata": {},
   "source": [
    "I first want to get a baseline result of a classification model by using a random forest classifier. I'll use 100 estimators and a random state of 1 as arguments for the RandomForestClassifier, and then perform cross-validation on the training set with the `cross_val_score` function to get the recall score of the model. I use the `KFold` object I created earlier as the `cv` parameter."
   ]
  },
  {
   "cell_type": "code",
   "execution_count": 5,
   "metadata": {},
   "outputs": [
    {
     "data": {
      "text/plain": [
       "array([0.85      , 0.67741935, 0.70833333, 0.96428571, 0.75      ])"
      ]
     },
     "execution_count": 5,
     "metadata": {},
     "output_type": "execute_result"
    }
   ],
   "source": [
    "from sklearn.ensemble import RandomForestClassifier\n",
    "from sklearn.model_selection import cross_val_score\n",
    "rf=RandomForestClassifier(n_estimators=100,random_state=1)\n",
    "cross_val_score(rf,X_train,y_train,cv=kf,scoring='recall')"
   ]
  },
  {
   "cell_type": "markdown",
   "metadata": {},
   "source": [
    "The results are pretty decent, and we haven't even started optimizing the model yet. \n",
    "\n",
    "# **4. Hyperparameter Tuning with GridSearchCV** <a class=\"anchor\" id=\"4\"></a>\n",
    "\n",
    "[Table of Contents](#0.1)\n",
    "\n",
    "Let's try to do some hyperparameter tuning. I use the `GridSearchCV` function to find the best hyperparameters for the random forest classifier. I'll use the same parameters as before, but add a `param_grid` parameter with a dictionary of parameters to try (I'll specify a number of estimators going from 10 to 250, and max depth from 4 to 12). We will try different values of `n_estimators` and `max_depth`. Finally I'll use the `KFold` object I created earlier as the `cv` parameter. In conclusion, I'll print the best validation score and the best parameters."
   ]
  },
  {
   "cell_type": "code",
   "execution_count": 6,
   "metadata": {
    "ExecuteTime": {
     "end_time": "2024-01-31T21:27:46.365423134Z",
     "start_time": "2024-01-31T21:27:34.976166801Z"
    }
   },
   "outputs": [
    {
     "name": "stdout",
     "output_type": "stream",
     "text": [
      "The best parameters are {'max_depth': 12, 'n_estimators': 100, 'random_state': 1} with a score of 0.7757219662058372\n"
     ]
    }
   ],
   "source": [
    "params= {'n_estimators':[10,100,200],'max_depth':[4,6,10,12], 'random_state':[1]}\n",
    "from sklearn.model_selection import GridSearchCV\n",
    "grid_no_up=GridSearchCV(rf,param_grid=params,scoring='recall',cv=kf).fit(X_train,y_train)\n",
    "\n",
    "print(f'The best parameters are {grid_no_up.best_params_} with a score of {grid_no_up.best_score_}')\n",
    "#Among the k-folds, this score is the average of the recall scores."
   ]
  },
  {
   "cell_type": "markdown",
   "metadata": {
    "collapsed": false
   },
   "source": [
    "# **5. Hyperparameter Tuning with RandomizedSearch** <a class=\"anchor\" id=\"5\"></a>\n",
    "\n",
    "[Table of Contents](#0.1)\n",
    "\n",
    "Same as before, but using `RandomizedSearchCV` instead of grid search. I'll use a \"thicker\" list of parameters. As before, I'll print the best score and hyperparameters."
   ]
  },
  {
   "cell_type": "code",
   "execution_count": 7,
   "metadata": {
    "ExecuteTime": {
     "end_time": "2024-01-31T21:44:25.626274311Z",
     "start_time": "2024-01-31T21:44:14.361902612Z"
    },
    "collapsed": false
   },
   "outputs": [
    {
     "name": "stdout",
     "output_type": "stream",
     "text": [
      "The best parameters are {'random_state': 1, 'n_estimators': 150, 'max_depth': 10} with a score of 0.7657219662058372\n"
     ]
    }
   ],
   "source": [
    "from sklearn.model_selection import RandomizedSearchCV\n",
    "params = {'n_estimators': list(range(10, 250, 10)),'max_depth': list(range(4, 12, 2)),'random_state': [1]}\n",
    "grid_no_up=RandomizedSearchCV(rf,param_distributions=params,scoring='recall',cv=kf,n_iter=10).fit(X_train,y_train)\n",
    "\n",
    "print(f'The best parameters are {grid_no_up.best_params_} with a score of {grid_no_up.best_score_}')"
   ]
  },
  {
   "cell_type": "markdown",
   "metadata": {},
   "source": [
    "### Check model performance against test dataset\n",
    "\n",
    "Normally we would wait until we had finished our modeling to look at the test set, but an important part of this is to see how oversampling, done incorrectly, can make us too confident in our ability to generalize based off cross-validation. I haven't oversampled yet, so let's just check that the test scores are in line with what we expect from the CV scores above."
   ]
  },
  {
   "cell_type": "code",
   "execution_count": 8,
   "metadata": {
    "ExecuteTime": {
     "end_time": "2024-01-31T21:45:10.188198129Z",
     "start_time": "2024-01-31T21:45:10.140624996Z"
    }
   },
   "outputs": [
    {
     "data": {
      "text/plain": [
       "0.725"
      ]
     },
     "execution_count": 8,
     "metadata": {},
     "output_type": "execute_result"
    }
   ],
   "source": [
    "from sklearn.metrics import recall_score\n",
    "recall_score(y_test,grid_no_up.predict(X_test))"
   ]
  },
  {
   "cell_type": "markdown",
   "metadata": {},
   "source": [
    "This value should be roughly consistent with the CV results (but probably a bit worse)."
   ]
  },
  {
   "cell_type": "markdown",
   "metadata": {},
   "source": [
    "# **6. Oversampling** <a class=\"anchor\" id=\"6\"></a>\n",
    "\n",
    "[Table of Contents](#0.1)\n",
    "\n",
    "The recall we got without oversampling is the number to beat. Let's just oversample the rows where sick == 1 in the training data and see what happens. \n",
    "\n",
    "I'll take the X_train and y_train, extract the rows corresponding to sick people, and add copies of it to the dataframe until the classes become roughly balanced. Then, I'll shuffle the dataframe. Finally I'll check that the upsampling worked by printing the new fraction of sick people."
   ]
  },
  {
   "cell_type": "code",
   "execution_count": 9,
   "metadata": {},
   "outputs": [
    {
     "name": "stdout",
     "output_type": "stream",
     "text": [
      "Fraction of sick people 0.4925586136595311\n"
     ]
    }
   ],
   "source": [
    "X_train_copy = X_train.copy()\n",
    "X_train_copy[\"target\"] = y_train\n",
    "X_train_sick = X_train_copy.loc[X_train_copy[\"target\"] == 1]\n",
    "X_train_healthy = X_train_copy.loc[X_train_copy[\"target\"] == 0]\n",
    "X_train_sick_upsample = pd.concat([X_train_sick]*int(1 / Avg_y))  #it creates fake rows of sick people\n",
    "X_train_upsample = pd.concat([X_train_healthy, X_train_sick_upsample])\n",
    "X_train_upsample = X_train_upsample.sample(frac=1)   #Just for shuffling the rows \n",
    "y_train_upsample = X_train_upsample[\"target\"]\n",
    "X_train_upsample = X_train_upsample.drop(columns=[\"target\"])\n",
    "\n",
    "print(f\"Fraction of sick people {y_train_upsample.mean()}\")"
   ]
  },
  {
   "cell_type": "code",
   "execution_count": 10,
   "metadata": {},
   "outputs": [
    {
     "data": {
      "text/plain": [
       "target\n",
       "0    2489\n",
       "1    2416\n",
       "Name: count, dtype: int64"
      ]
     },
     "execution_count": 10,
     "metadata": {},
     "output_type": "execute_result"
    }
   ],
   "source": [
    "y_train_upsample.value_counts()"
   ]
  },
  {
   "cell_type": "markdown",
   "metadata": {},
   "source": [
    "# **7. Cross-validation after Oversampling** <a class=\"anchor\" id=\"7\"></a>\n",
    "\n",
    "[Table of Contents](#0.1)\n",
    "\n",
    "Let's cross-validate with the new data, using grid search. \n"
   ]
  },
  {
   "cell_type": "code",
   "execution_count": 11,
   "metadata": {
    "ExecuteTime": {
     "end_time": "2024-01-31T22:04:41.048036902Z",
     "start_time": "2024-01-31T22:04:25.383140135Z"
    }
   },
   "outputs": [
    {
     "name": "stdout",
     "output_type": "stream",
     "text": [
      "The best parameters are {'max_depth': 10, 'n_estimators': 50, 'random_state': 13} with a score of 1.0\n",
      "All mean scores: [0.92170799 0.92997794 0.9324437  0.98714569 0.990236   0.99464028\n",
      " 1.         1.         1.         1.         1.         1.        ]\n"
     ]
    }
   ],
   "source": [
    "params = {'n_estimators': [50, 100, 200],'max_depth': [4, 6, 10, 12],'random_state': [13]}\n",
    "grid_naive_up = GridSearchCV(rf, param_grid=params, cv=kf, scoring='recall').fit(X_train_upsample, y_train_upsample)\n",
    "print(f\"The best parameters are {grid_naive_up.best_params_} with a score of {grid_naive_up.best_score_}\")\n",
    "print(f\"All mean scores: {grid_naive_up.cv_results_['mean_test_score']}\")"
   ]
  },
  {
   "cell_type": "markdown",
   "metadata": {},
   "source": [
    "The recall is really good (even amazing!). \n",
    "Let's now take a look at how it does on:\n",
    "* The training set as a whole (once we eliminate the upsampling)\n",
    "* On the test set"
   ]
  },
  {
   "cell_type": "code",
   "execution_count": 12,
   "metadata": {
    "ExecuteTime": {
     "end_time": "2024-01-31T22:06:23.383852899Z",
     "start_time": "2024-01-31T22:06:23.333553752Z"
    }
   },
   "outputs": [
    {
     "name": "stdout",
     "output_type": "stream",
     "text": [
      "The recall score for the test set is 0.9 and for the training set is 1.0\n"
     ]
    }
   ],
   "source": [
    "recal_test=recall_score(y_test,grid_naive_up.predict(X_test))\n",
    "recall_train=recall_score(y_train,grid_naive_up.predict(X_train))\n",
    "print(f\"The recall score for the test set is {recal_test:.2} and for the training set is {recall_train:.2}\")"
   ]
  },
  {
   "cell_type": "markdown",
   "metadata": {},
   "source": [
    "### Confusion Matrix"
   ]
  },
  {
   "cell_type": "code",
   "execution_count": 13,
   "metadata": {},
   "outputs": [
    {
     "data": {
      "image/png": "[encoded data removed]",
      "text/plain": [
       "<Figure size 640x480 with 2 Axes>"
      ]
     },
     "metadata": {},
     "output_type": "display_data"
    }
   ],
   "source": [
    "from sklearn.metrics import confusion_matrix\n",
    "import seaborn as sns\n",
    "import matplotlib.pyplot as plt\n",
    "cm = confusion_matrix(y_test, grid_naive_up.predict(X_test))\n",
    "sns.heatmap(cm, annot=True, fmt=\"d\")\n",
    "plt.xlabel(\"Predicted\")\n",
    "plt.ylabel(\"True\")\n",
    "plt.show()"
   ]
  },
  {
   "cell_type": "markdown",
   "metadata": {},
   "source": [
    "### AUROC\n",
    "I'm going to try with this classification metric to see if there are any more improvements."
   ]
  },
  {
   "cell_type": "code",
   "execution_count": 14,
   "metadata": {},
   "outputs": [
    {
     "data": {
      "image/png": "[encoded data removed]",
      "text/plain": [
       "<Figure size 640x480 with 1 Axes>"
      ]
     },
     "metadata": {},
     "output_type": "display_data"
    },
    {
     "data": {
      "text/plain": [
       "0.9922528517110267"
      ]
     },
     "execution_count": 14,
     "metadata": {},
     "output_type": "execute_result"
    }
   ],
   "source": [
    "from sklearn.metrics import roc_auc_score\n",
    "from sklearn.metrics import roc_curve\n",
    "import matplotlib.pyplot as plt\n",
    "y_pred = grid_naive_up.predict_proba(X_test)[:, 1]\n",
    "fpr, tpr, _ = roc_curve(y_test, y_pred)\n",
    "plt.plot(fpr, tpr)\n",
    "plt.xlabel('False positive rate')\n",
    "plt.ylabel('True positive rate')\n",
    "plt.title('ROC curve')\n",
    "plt.show()\n",
    "roc_auc_score(y_test, y_pred)"
   ]
  },
  {
   "cell_type": "markdown",
   "metadata": {},
   "source": [
    "# **8. Final Conclusion** <a class=\"anchor\" id=\"8\"></a>\n",
    "\n",
    "[Table of Contents](#0.1)\n",
    "\n",
    "Time for some final good and bad news:\n",
    "\n",
    "* Good: the recall on the test set went up! It should be significantly better than the original value without upscaling.\n",
    "* Bad: our confidence in the cross-valdation results went down. With no upsampling, the validation recall was a good estimate of the test validation. With upsampling, the validation recall way higher than the test recall.\n",
    "* AUROC metric: gives us the best score. "
   ]
  }
 ],
 "metadata": {
  "kernelspec": {
   "display_name": "Python 3 (ipykernel)",
   "language": "python",
   "name": "python3"
  },
  "language_info": {
   "codemirror_mode": {
    "name": "ipython",
    "version": 3
   },
   "file_extension": ".py",
   "mimetype": "text/x-python",
   "name": "python",
   "nbconvert_exporter": "python",
   "pygments_lexer": "ipython3",
   "version": "3.11.5"
  }
 },
 "nbformat": 4,
 "nbformat_minor": 2
}
